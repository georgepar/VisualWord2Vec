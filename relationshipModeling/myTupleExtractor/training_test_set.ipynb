{
 "cells": [
  {
   "cell_type": "markdown",
   "metadata": {},
   "source": [
    "### Load the COCO sentences and convert into a form compatible as input to myTupleExtractor"
   ]
  },
  {
   "cell_type": "code",
   "execution_count": 4,
   "metadata": {
    "collapsed": false
   },
   "outputs": [
    {
     "name": "stdout",
     "output_type": "stream",
     "text": [
      "24790 24797\n",
      "4956 4957\n"
     ]
    }
   ],
   "source": [
    "import json\n",
    "from collections import defaultdict\n",
    "import random \n",
    "import os\n",
    "\n",
    "# set seed for random, so that every run gives the same val-test split\n",
    "random.seed(32)\n",
    "data = json.loads(open('data/simplesentences_coco.json', 'r').read())\n",
    "dataset = defaultdict(list)\n",
    "\n",
    "for x in data:\n",
    "    dataset[x[1][0][0]].append(x[0][0])\n",
    "\n",
    "# name the val and test files\n",
    "val_file = 'cs_val.json'\n",
    "test_file = 'cs_test.json'\n",
    "\n",
    "# put half the images in val and half in test\n",
    "all_images = dataset.keys()\n",
    "\n",
    "val_id = random.sample(xrange(len(all_images)), len(all_images)/2)\n",
    "test_id = [x for x in xrange(len(all_images)) if x not in val_id]\n",
    "\n",
    "val_data = {all_images[k]: dataset[all_images[k]] for k in val_id} \n",
    "test_data = {all_images[k]: dataset[all_images[k]] for k in test_id}\n",
    "sent_val = [sent for key in val_data for sent in val_data[key]]\n",
    "sent_test = [sent for key in test_data for sent in test_data[key]]\n",
    "\n",
    "print len(sent_val), len(sent_test)\n",
    "print len(val_data), len(test_data)\n",
    "#json.dump(val_data, open(os.path.join('data', val_file),'w'))\n",
    "#json.dump(test_data, open(os.path.join('data', test_file), 'w'))\n"
   ]
  },
  {
   "cell_type": "markdown",
   "metadata": {},
   "source": [
    "### Run tuple extraction on val set"
   ]
  },
  {
   "cell_type": "code",
   "execution_count": 22,
   "metadata": {
    "collapsed": false,
    "scrolled": true
   },
   "outputs": [
    {
     "name": "stdout",
     "output_type": "stream",
     "text": [
      "\n",
      "data/cs_val.json\n",
      "\n",
      "Dataset has 24790 sentences\n",
      "Running Part-Of-Speech (POS) tagging\n",
      "Running Reverb Tuple Extraction\n",
      "Total number of relations is 1315 and total number of nouns is 3127\n"
     ]
    }
   ],
   "source": [
    "run myTupleExtractor.py data/cs_val.json"
   ]
  },
  {
   "cell_type": "code",
   "execution_count": 23,
   "metadata": {
    "collapsed": false
   },
   "outputs": [],
   "source": [
    "import operator\n",
    "import json\n",
    "from collections import defaultdict\n",
    "from pandas import *\n",
    "\n",
    "sorted_x = sorted(count_rels.items(), key=operator.itemgetter(1), reverse=True)\n",
    "\n",
    "val_tuples = []\n",
    "for y in sorted_x:\n",
    "    if y[1]>=4:\n",
    "        val_tuples.append(y[0])\n",
    "        \n",
    "all_val_tuples = [tup for key in tuples for tup in tuples[key]]\n",
    "\n",
    "filtered_val_tuples = []\n",
    "\n",
    "val_by_rel = defaultdict(list)\n",
    "for t in all_val_tuples:\n",
    "    if t[1] in val_tuples and t[1]!='':\n",
    "        val_by_rel[t[1]].append(t)\n",
    "        filtered_val_tuples.append(t)\n",
    "        \n",
    "fil_val_nouns = []\n",
    "for t in filtered_val_tuples:\n",
    "    fil_val_nouns.append(t[0])\n",
    "    fil_val_nouns.append(t[1])\n",
    "\n",
    "#json.dump(val_by_rel, open('val_by_rel.json', 'w'))\n",
    "\n",
    "# make a table with some 10 examples for each relation\n",
    "#print_val_rels = defaultdict(list)\n",
    "#for rel in val_by_rel:\n",
    "#    show_ex = val_by_rel[rel][0:4]\n",
    "#    print_val_rels[rel] = show_ex\n",
    "\n",
    "#D = DataFrame(print_val_rels).transpose()\n",
    "\n",
    "#D"
   ]
  },
  {
   "cell_type": "markdown",
   "metadata": {
    "collapsed": true
   },
   "source": [
    "### Run tuple extraction on test set"
   ]
  },
  {
   "cell_type": "code",
   "execution_count": 24,
   "metadata": {
    "collapsed": false
   },
   "outputs": [
    {
     "name": "stdout",
     "output_type": "stream",
     "text": [
      "\n",
      "data/cs_test.json\n",
      "\n",
      "Dataset has 24797 sentences\n",
      "Running Part-Of-Speech (POS) tagging\n",
      "Running Reverb Tuple Extraction\n",
      "Total number of relations is 1245 and total number of nouns is 3034\n"
     ]
    }
   ],
   "source": [
    "run myTupleExtractor.py data/cs_test.json"
   ]
  },
  {
   "cell_type": "code",
   "execution_count": 26,
   "metadata": {
    "collapsed": false
   },
   "outputs": [
    {
     "name": "stdout",
     "output_type": "stream",
     "text": [
      "1305\n",
      "1321\n",
      "4851\n",
      "4780\n"
     ]
    }
   ],
   "source": [
    "import operator\n",
    "from collections import defaultdict\n",
    "test_by_rel = defaultdict(list)\n",
    "\n",
    "sorted_x = sorted(count_rels.items(), key=operator.itemgetter(1), reverse=True)\n",
    "\n",
    "all_test_tuples = [(i,tup) for i,key in enumerate(tuples) for tup in tuples[key]]\n",
    "\n",
    "\n",
    "test_tuples = []\n",
    "for y in sorted_x:\n",
    "    if y[1]>=4:\n",
    "        test_tuples.append(y[0])\n",
    "    \n",
    "filtered_test_tuples = []\n",
    "for i, t in all_test_tuples:\n",
    "    if t[1] in test_tuples and t[1]!='':\n",
    "        test_by_rel[t[1]].append((i,t))\n",
    "        filtered_test_tuples.append(t)\n",
    "\n",
    "fil_test_nouns = []\n",
    "for t in filtered_test_tuples:\n",
    "    fil_test_nouns.append(t[0])\n",
    "    fil_test_nouns.append(t[1])\n",
    "print len(set(fil_test_nouns))\n",
    "print len(set(fil_val_nouns))\n",
    "print len(filtered_val_tuples)\n",
    "print len(filtered_test_tuples)"
   ]
  },
  {
   "cell_type": "code",
   "execution_count": 31,
   "metadata": {
    "collapsed": false
   },
   "outputs": [
    {
     "name": "stdout",
     "output_type": "stream",
     "text": [
      "4779 4851\n",
      "2350 1290\n"
     ]
    }
   ],
   "source": [
    "print len(filtered_test_tuples), len(filtered_val_tuples)\n",
    "\n",
    "print len(filtered_nouns_test), len(filtered_nouns_val)\n",
    "\n",
    "213 "
   ]
  },
  {
   "cell_type": "markdown",
   "metadata": {},
   "source": [
    "### Check how many relations occur with different P and S in test than in val"
   ]
  },
  {
   "cell_type": "code",
   "execution_count": 56,
   "metadata": {
    "collapsed": false
   },
   "outputs": [
    {
     "data": {
      "text/plain": [
       "0.13338169846750486"
      ]
     },
     "execution_count": 56,
     "metadata": {},
     "output_type": "execute_result"
    }
   ],
   "source": [
    "from collections import defaultdict\n",
    "import pdb\n",
    "import numpy as np\n",
    "\n",
    "common = defaultdict(float)\n",
    "for rel in val_by_rel:\n",
    "    if rel in test_by_rel.keys():\n",
    "        val_tuples = val_by_rel[rel]\n",
    "        test_tuples = test_by_rel[rel]\n",
    "        \n",
    "        count = 0\n",
    "        for t in val_tuples:\n",
    "            if t in test_tuples:\n",
    "                 count += 1\n",
    "        common[rel] = count/float(len(val_tuples))\n",
    "\n",
    "np.mean(np.array(common.values()))"
   ]
  },
  {
   "cell_type": "code",
   "execution_count": null,
   "metadata": {
    "collapsed": true
   },
   "outputs": [],
   "source": []
  },
  {
   "cell_type": "code",
   "execution_count": null,
   "metadata": {
    "collapsed": true
   },
   "outputs": [],
   "source": []
  },
  {
   "cell_type": "markdown",
   "metadata": {},
   "source": [
    "### Tuples which are in val but not in test"
   ]
  }
 ],
 "metadata": {
  "kernelspec": {
   "display_name": "Python 2",
   "language": "python",
   "name": "python2"
  },
  "language_info": {
   "codemirror_mode": {
    "name": "ipython",
    "version": 2
   },
   "file_extension": ".py",
   "mimetype": "text/x-python",
   "name": "python",
   "nbconvert_exporter": "python",
   "pygments_lexer": "ipython2",
   "version": "2.7.9"
  }
 },
 "nbformat": 4,
 "nbformat_minor": 0
}
